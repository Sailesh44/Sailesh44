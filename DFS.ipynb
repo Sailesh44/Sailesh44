{
  "cells": [
    {
      "cell_type": "markdown",
      "metadata": {
        "id": "view-in-github",
        "colab_type": "text"
      },
      "source": [
        "<a href=\"https://colab.research.google.com/github/Sailesh44/Sailesh44/blob/master/DFS.ipynb\" target=\"_parent\"><img src=\"https://colab.research.google.com/assets/colab-badge.svg\" alt=\"Open In Colab\"/></a>"
      ]
    },
    {
      "cell_type": "code",
      "source": [
        "import matplotlib.pyplot as plt\n",
        "import numpy as np"
      ],
      "metadata": {
        "id": "9oMJS236wUqj"
      },
      "execution_count": null,
      "outputs": []
    },
    {
      "cell_type": "markdown",
      "source": [],
      "metadata": {
        "id": "KAzpWGo-o_Nj"
      }
    },
    {
      "cell_type": "code",
      "execution_count": null,
      "metadata": {
        "id": "BXlUHYUKo4gk"
      },
      "outputs": [],
      "source": [
        "class Stack():\n",
        "    def __init__(self, initial):\n",
        "        self.items = [initial]\n",
        "    def isEmpty(self):\n",
        "        return self.items == []\n",
        "    def push(self, item):\n",
        "        self.items.append(item)\n",
        "    def pop(self):\n",
        "        return self.items.pop()\n",
        "    def size(self):\n",
        "        return len(self.items)"
      ]
    },
    {
      "cell_type": "code",
      "execution_count": null,
      "metadata": {
        "id": "rnFgH0nwo4gl"
      },
      "outputs": [],
      "source": [
        "class State():\n",
        "    right = {0, 1, 3, 4, 6, 7}\n",
        "    left = {1, 2, 4, 5, 7, 8}\n",
        "    up = {3, 4, 5, 6, 7, 8}\n",
        "    down = {0, 1, 2, 3, 4, 5}\n",
        "\n",
        "    def __init__(self, board_config, parent, move):\n",
        "        self.board_config = board_config  # board configuration of the current state in a string\n",
        "        self.board_config_list = list(map(int,board_config.split(',')))  # board configuration of the current state in a list\n",
        "        #print(self.board_config_list)\n",
        "        self.i = self.board_config_list.index(0)  # index of empty space in board (index of 0 in this case)\n",
        "        self.parent = parent  # parent state (node) of the present state\n",
        "        self.move = move  # the move (Up,Down,Left,Right) made in parent state that results in the present state\n",
        "    def get_children(self):\n",
        "        \"\"\"returns the list of all possible states reachable from the current state,\n",
        "        each child in the list is a State object\"\"\"\n",
        "        children = []\n",
        "        if self.i in State.up:\n",
        "            new_board_config = self.board_config_list[:]\n",
        "            new_board_config[self.i], new_board_config[self.i-3] = new_board_config[self.i-3], new_board_config[self.i]\n",
        "            children.append(State(','.join(map(str,new_board_config)), self.board_config,'Up'))\n",
        "\n",
        "        if self.i in State.down:\n",
        "            new_board_config = self.board_config_list[:]\n",
        "            new_board_config[self.i], new_board_config[self.i+3] = new_board_config[self.i+3], new_board_config[self.i]\n",
        "            children.append(State(','.join(map(str,new_board_config)), self.board_config,'Down'))\n",
        "\n",
        "        if self.i in State.left:\n",
        "            new_board_config = self.board_config_list[:]\n",
        "            new_board_config[self.i], new_board_config[self.i-1] = new_board_config[self.i-1], new_board_config[self.i]\n",
        "            children.append(State(','.join(map(str,new_board_config)), self.board_config,'Left'))\n",
        "\n",
        "        if self.i in State.right:\n",
        "            new_board_config = self.board_config_list[:]\n",
        "            new_board_config[self.i], new_board_config[self.i+1] = new_board_config[self.i+1], new_board_config[self.i]\n",
        "            children.append(State(','.join(map(str,new_board_config)), self.board_config,'Right'))\n",
        "        return children\n",
        "    def plot_8_puzzle(self):\n",
        "        board = np.array([int(x) for x in self.board_config.split(',')]).reshape(3, 3)\n",
        "\n",
        "        fig, ax = plt.subplots()\n",
        "        ax.matshow(board)\n",
        "\n",
        "        for i in range(3):\n",
        "            for j in range(3):\n",
        "                ax.text(j, i, str(board[i, j]), va='center', ha='center', fontsize=20, color='black')\n",
        "\n",
        "        plt.title('8 Puzzle')\n",
        "        plt.show()\n",
        "\n",
        "    def __str__(self):\n",
        "        return self.board_config\n"
      ]
    },
    {
      "cell_type": "markdown",
      "source": [],
      "metadata": {
        "id": "8HtZYkixsUwD"
      }
    },
    {
      "cell_type": "code",
      "execution_count": null,
      "metadata": {
        "id": "iTa6_9Too4gn",
        "colab": {
          "base_uri": "https://localhost:8080/",
          "height": 457
        },
        "outputId": "b46fb15d-77c8-47d5-f6db-0de9c25bfe2f"
      },
      "outputs": [
        {
          "output_type": "display_data",
          "data": {
            "text/plain": [
              "<Figure size 640x480 with 1 Axes>"
            ],
            "image/png": "[encoded data removed]"
          },
          "metadata": {}
        }
      ],
      "source": [
        "start = '5,3,0,7,1,2,8,4,6'\n",
        "goal = '0,1,2,3,4,5,6,7,8'\n",
        "initial_state = State(start, None, None)\n",
        "initial_state.plot_8_puzzle()\n"
      ]
    },
    {
      "cell_type": "code",
      "source": [
        "def dfs():\n"
      ],
      "metadata": {
        "id": "oylamW4B27a8"
      },
      "execution_count": null,
      "outputs": []
    },
    {
      "cell_type": "code",
      "source": [
        "import time\n",
        "s=time.time()\n",
        "print(bfs(initial_state, goal))\n",
        "f=time.time()\n",
        "e=f-s\n",
        "print(e)\n"
      ],
      "metadata": {
        "id": "eBfqmDEp64sV"
      },
      "execution_count": null,
      "outputs": []
    }
  ],
  "metadata": {
    "kernelspec": {
      "display_name": "Python 3",
      "language": "python",
      "name": "python3"
    },
    "language_info": {
      "codemirror_mode": {
        "name": "ipython",
        "version": 3
      },
      "file_extension": ".py",
      "mimetype": "text/x-python",
      "name": "python",
      "nbconvert_exporter": "python",
      "pygments_lexer": "ipython3",
      "version": "3.8.3"
    },
    "colab": {
      "provenance": [],
      "include_colab_link": true
    }
  },
  "nbformat": 4,
  "nbformat_minor": 0
}