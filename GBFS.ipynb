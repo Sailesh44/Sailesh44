{
  "cells": [
    {
      "cell_type": "markdown",
      "metadata": {
        "id": "view-in-github",
        "colab_type": "text"
      },
      "source": [
        "<a href=\"https://colab.research.google.com/github/Sailesh44/Sailesh44/blob/master/GBFS.ipynb\" target=\"_parent\"><img src=\"https://colab.research.google.com/assets/colab-badge.svg\" alt=\"Open In Colab\"/></a>"
      ]
    },
    {
      "cell_type": "code",
      "source": [
        "import matplotlib.pyplot as plt\n",
        "import numpy as np"
      ],
      "metadata": {
        "id": "-2QlunWIyUWg"
      },
      "execution_count": null,
      "outputs": []
    },
    {
      "cell_type": "code",
      "execution_count": null,
      "metadata": {
        "id": "9VN7nfXGp3Me"
      },
      "outputs": [],
      "source": [
        "class PriorityQueue():\n",
        "    def __init__(self,item,cost):\n",
        "        self.items = {cost:[item]}\n",
        "        self.costs = {cost}\n",
        "\n",
        "    def isEmpty(self):\n",
        "        return self.items == {}\n",
        "\n",
        "    def dequeue(self):\n",
        "        least_cost = sorted(self.costs)[0]\n",
        "        item = self.items[least_cost].pop(0)\n",
        "\n",
        "        if len(self.items[least_cost]) == 0:\n",
        "            self.costs.remove(least_cost)\n",
        "            del self.items[least_cost]\n",
        "\n",
        "        return item\n",
        "    def enqueue(self,item,cost):\n",
        "        if cost in self.costs:\n",
        "            self.items[cost].append(item)\n",
        "\n",
        "        else:\n",
        "            self.items[cost] = [item]\n",
        "            self.costs.add(cost)\n",
        "\n",
        "    def update_cost(self,item,old_cost,new_cost):\n",
        "        #print(old_cost)\n",
        "        for i in self.items[old_cost]:\n",
        "            if i.board_config == item.board_config:\n",
        "                self.items[old_cost].remove(i)\n",
        "                break\n",
        "        if len(self.items[old_cost]) == 0:\n",
        "            self.costs.remove(old_cost)\n",
        "            del self.items[old_cost]\n",
        "        if new_cost in self.costs:\n",
        "            self.items[new_cost].append(item)\n",
        "\n",
        "        else:\n",
        "            self.items[new_cost] = [item]\n",
        "            self.costs.add(new_cost)\n"
      ]
    },
    {
      "cell_type": "code",
      "execution_count": null,
      "metadata": {
        "id": "n_b3rHfsp3Mh"
      },
      "outputs": [],
      "source": [
        "class State():\n",
        "        right=(0,1,3,4,6,7)\n",
        "        left=(1,2,4,5,7,8)\n",
        "        up=(3,4,5,6,7,8,)\n",
        "        down=(0,1,2,3,4,5)\n",
        "\n",
        "        def __init__(self,board_config,parent,move,depth):\n",
        "           self.board_config = board_config\n",
        "           self.board_config_list = list(map(int,board_config.split(',')))\n",
        "           self.i = self.board_config_list.index(0)\n",
        "           self.parents = parent\n",
        "           self.move = move\n",
        "           self.depth = depth\n",
        "          # print('Constructor called')\n",
        "\n",
        "        def get_children(self):\n",
        "            children = []\n",
        "            if self.i in State.right:\n",
        "                new_config = self.board_config_list[:]\n",
        "                new_config[self.i],new_config[self.i+1]=new_config[self.i+1], new_config[self.i]\n",
        "                children.append(State(','.join(map(str,new_config)),self.board_config,'Right',self.depth+1))\n",
        "            if self.i in State.left:\n",
        "                new_config = self.board_config_list[:]\n",
        "                new_config[self.i],new_config[self.i-1]=new_config[self.i-1], new_config[self.i]\n",
        "                children.append(State(','.join(map(str,new_config)),self.board_config,'Left',self.depth+1))\n",
        "            if self.i in State.up:\n",
        "                new_config = self.board_config_list[:]\n",
        "                new_config[self.i],new_config[self.i-3]=new_config[self.i-3], new_config[self.i]\n",
        "                children.append(State(','.join(map(str,new_config)),self.board_config,'Up',self.depth+1))\n",
        "            if self.i in State.down:\n",
        "                new_config = self.board_config_list[:]\n",
        "                new_config[self.i],new_config[self.i+3]=new_config[self.i+3], new_config[self.i]\n",
        "                children.append(State(','.join(map(str,new_config)),self.board_config,'Down',self.depth+1))\n",
        "               # print(children)\n",
        "            return children\n",
        "        def plot_8_puzzle(self):\n",
        "            board = np.array([int(x) for x in self.board_config.split(',')]).reshape(3, 3)\n",
        "\n",
        "            fig, ax = plt.subplots()\n",
        "            ax.matshow(board)\n",
        "\n",
        "            for i in range(3):\n",
        "                for j in range(3):\n",
        "                    ax.text(j, i, str(board[i, j]), va='center', ha='center', fontsize=20, color='black')\n",
        "\n",
        "            plt.title('8 Puzzle')\n",
        "            plt.show()\n",
        "        def __str__(self):\n",
        "            return self.board_config"
      ]
    },
    {
      "cell_type": "code",
      "execution_count": null,
      "metadata": {
        "id": "5vSqvegGp3Mi"
      },
      "outputs": [],
      "source": [
        "def manhattan_dist(x,y):\n",
        "   # print('j')\n",
        "    return abs(x[0]-y[0])+abs(x[1]-y[1])\n",
        "\n",
        "indexes = {0:(0,0), 1:(0,1),2:(0,2),3:(1,0),4:(1,1),5:(1,2), 6:(2,0), 7:(2,1),8:(2,2)}\n"
      ]
    },
    {
      "cell_type": "code",
      "execution_count": null,
      "metadata": {
        "id": "RvW9gft4p3Mj"
      },
      "outputs": [],
      "source": [
        "def h(s):\n",
        "   s = s.split(',')\n",
        "   dist=0\n",
        " #  print('k')\n",
        "   for each in s :\n",
        "       i = s.index(each)\n",
        "       x = indexes[i]\n",
        "#       print('l')\n",
        "       y = indexes[int(each)]\n",
        "       dist = dist + manhattan_dist(x,y)\n",
        "\n",
        "    return dist\n"
      ]
    },
    {
      "cell_type": "code",
      "source": [
        "h(\"0,5,3,8,2,1,7,4,6\")"
      ],
      "metadata": {
        "id": "gcZwxwzU5JpU"
      },
      "execution_count": null,
      "outputs": []
    },
    {
      "cell_type": "code",
      "execution_count": null,
      "metadata": {
        "id": "StVh2HDXp3Mj"
      },
      "outputs": [],
      "source": [
        "def GBFS(inp,goal):\n",
        "  \"Write your code here \"\n"
      ]
    },
    {
      "cell_type": "code",
      "execution_count": null,
      "metadata": {
        "id": "Co0g1FQhp3Mj"
      },
      "outputs": [],
      "source": [
        "inp= State('5,3,0,7,1,2,8,4,6',None,None,0)"
      ]
    },
    {
      "cell_type": "code",
      "execution_count": null,
      "metadata": {
        "id": "o2DmQsE9p3Mk"
      },
      "outputs": [],
      "source": [
        "import time\n",
        "s=time.time()\n",
        "print(GBFS(inp,'0,1,2,3,4,5,6,7,8'))\n",
        "e=time.time()\n",
        "t=e-s\n",
        "print(t)\n"
      ]
    }
  ],
  "metadata": {
    "kernelspec": {
      "display_name": "Python 3",
      "language": "python",
      "name": "python3"
    },
    "language_info": {
      "codemirror_mode": {
        "name": "ipython",
        "version": 3
      },
      "file_extension": ".py",
      "mimetype": "text/x-python",
      "name": "python",
      "nbconvert_exporter": "python",
      "pygments_lexer": "ipython3",
      "version": "3.8.3"
    },
    "colab": {
      "provenance": [],
      "include_colab_link": true
    }
  },
  "nbformat": 4,
  "nbformat_minor": 0
}