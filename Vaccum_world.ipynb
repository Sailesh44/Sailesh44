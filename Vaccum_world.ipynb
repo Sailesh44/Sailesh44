{
  "nbformat": 4,
  "nbformat_minor": 0,
  "metadata": {
    "colab": {
      "provenance": [],
      "include_colab_link": true
    },
    "kernelspec": {
      "name": "python3",
      "display_name": "Python 3"
    },
    "language_info": {
      "name": "python"
    }
  },
  "cells": [
    {
      "cell_type": "markdown",
      "metadata": {
        "id": "view-in-github",
        "colab_type": "text"
      },
      "source": [
        "<a href=\"https://colab.research.google.com/github/Sailesh44/Sailesh44/blob/master/Vaccum_world.ipynb\" target=\"_parent\"><img src=\"https://colab.research.google.com/assets/colab-badge.svg\" alt=\"Open In Colab\"/></a>"
      ]
    },
    {
      "cell_type": "code",
      "source": [
        "import matplotlib.pyplot as plt\n",
        "import random\n",
        "import numpy as np\n",
        "\n"
      ],
      "metadata": {
        "id": "790Si0o6bIwC"
      },
      "execution_count": null,
      "outputs": []
    },
    {
      "cell_type": "code",
      "execution_count": null,
      "metadata": {
        "id": "gWy9xlsQaoRM"
      },
      "outputs": [],
      "source": [
        "class WorldMap:\n",
        "    def __init__(self, rows, cols, num_dirt_blocks, num_obs):\n",
        "        self.rows = rows\n",
        "        self.cols = cols\n",
        "        self.num_dirt_blocks = num_dirt_blocks\n",
        "        self.num_obs = num_obs\n",
        "        self.world_map = [['clean' for _ in range(cols)] for _ in range(rows)]\n",
        "\n",
        "        self.agent_positions = {}  # Dictionary to store agent positions\n",
        "\n",
        "        # Place dirt blocks randomly on the map\n",
        "        for _ in range(num_dirt_blocks):\n",
        "            row = random.randint(0, rows - 1)\n",
        "            col = random.randint(0, cols - 1)\n",
        "            while self.world_map[row][col] == 'dirt' or self.world_map[row][col] == 'agent':\n",
        "                row = random.randint(0, rows - 1)\n",
        "                col = random.randint(0, cols - 1)\n",
        "            self.world_map[row][col] = 'dirt'\n",
        "\n",
        "        # Place obstacles randomly on the map (excluding corners)\n",
        "        for _ in range(num_obs):\n",
        "            row = random.randint(1, rows - 2)  # Avoid corners\n",
        "            col = random.randint(1, cols - 2)  # Avoid corners\n",
        "            while self.world_map[row][col] == 'dirt' or self.world_map[row][col] == 'agent' or self.world_map[row][col] == 'obs':\n",
        "                row = random.randint(1, rows - 2)  # Avoid corners\n",
        "                col = random.randint(1, cols - 2)  # Avoid corners\n",
        "            self.world_map[row][col] = 'obs'\n",
        "\n",
        "    def add_agent(self, agent_id):\n",
        "        while True:\n",
        "            row = random.randint(0, self.rows - 1)\n",
        "            col = random.randint(0, self.cols - 1)\n",
        "            if self.world_map[row][col] == 'clean':\n",
        "                self.world_map[row][col] = 'agent'\n",
        "                self.agent_positions[agent_id] = (col,row)\n",
        "                break\n",
        "\n",
        "\n",
        "    def getAgentPos(self, agent_id):\n",
        "        if agent_id in self.agent_positions:\n",
        "            return self.agent_positions[agent_id]\n",
        "        else:\n",
        "            return None  # Agent not found\n",
        "\n",
        "    def move_agent(self, agent_id, new_position):\n",
        "        if agent_id in self.agent_positions:\n",
        "            current_position = self.agent_positions[agent_id]\n",
        "            if self.world_map[current_position[1]][current_position[0]] == 'agent':\n",
        "                self.world_map[current_position[1]][current_position[0]] = 'clean'  # Clear the current cell\n",
        "            self.world_map[new_position[1]][new_position[0]] = 'agent'  # Place the agent in the new cell\n",
        "            self.agent_positions[agent_id] = new_position  # Update the agent's position\n",
        "\n",
        "\n",
        "    def display_map(self):\n",
        "        fig,ax = plt.subplots() # Clear the current plot\n",
        "        for row in range(self.rows):\n",
        "            for col in range(self.cols):\n",
        "                if self.world_map[row][col] == 'dirt':\n",
        "                    ax.plot(col + 0.5,  row + 0.5, 'ro', markersize=10)  # Display dirt as red dots\n",
        "                elif self.world_map[row][col] == 'agent':\n",
        "                    ax.plot(col + 0.5, row + 0.5, 'bo', markersize=10)  # Display agents as blue dots\n",
        "                elif self.world_map[row][col] == 'obs':\n",
        "                    ax.plot(col + 0.5, row + 0.5, 'ko', markersize=10)  # Display obstacles as black dots\n",
        "\n",
        "        ax.set_xlim(0, self.cols)\n",
        "        ax.set_ylim(0, self.rows)\n",
        "\n",
        "        ax.set_xticks(range(self.cols))\n",
        "        ax.set_yticks(range(self.rows))\n",
        "        ax.grid()\n",
        "\n",
        "    def is_valid_position(self, row, col):\n",
        "        return 0 <= row < self.rows and 0 <= col < self.cols\n"
      ]
    }
  ]
}